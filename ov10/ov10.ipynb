{
 "metadata": {
  "name": ""
 },
 "nbformat": 3,
 "nbformat_minor": 0,
 "worksheets": [
  {
   "cells": [
    {
     "cell_type": "code",
     "collapsed": false,
     "input": [
      "from matplotlib import pyplot as plt\n",
      "import numpy as np\n",
      "%matplotlib inline\n",
      "from IPython.display import display, Math, Latex"
     ],
     "language": "python",
     "metadata": {},
     "outputs": [],
     "prompt_number": 7
    },
    {
     "cell_type": "markdown",
     "metadata": {},
     "source": [
      "# Oppgave 3"
     ]
    },
    {
     "cell_type": "code",
     "collapsed": false,
     "input": [
      "x = lambda y, z: 3.8 - 0.2*y - 0.4*z\n",
      "y = lambda x, z: -0.5 -0.25*x + 0.5*z\n",
      "z = lambda x, y: 4.875 - 0.25*x - 0.375*y"
     ],
     "language": "python",
     "metadata": {},
     "outputs": [],
     "prompt_number": 8
    },
    {
     "cell_type": "code",
     "collapsed": false,
     "input": [
      "def print_vector(name, x, y, z):\n",
      "    display(Math(r'$\\mathbf{%s} = \\Big[ %f \\quad %f \\quad %f \\Big]^T$' % (name, x, y, z)))"
     ],
     "language": "python",
     "metadata": {},
     "outputs": [],
     "prompt_number": 9
    },
    {
     "cell_type": "code",
     "collapsed": false,
     "input": [
      "xn = yn = zn = 1.0\n",
      "\n",
      "N = 5\n",
      "\n",
      "# Gauss Seidel\n",
      "for n in range(1, N+1):\n",
      "    xn = x(yn, zn)\n",
      "    yn = y(xn, zn)\n",
      "    zn = z(xn, yn)\n",
      "    print_vector('x_{%s}' % n, xn, yn, zn)\n",
      "    print_vector('e_{%s}' % n, abs(xn-2), abs(yn-1), abs(zn-4))"
     ],
     "language": "python",
     "metadata": {},
     "outputs": [
      {
       "latex": [
        "$$\\mathbf{x_{1}} = \\Big[ 3.200000 \\quad -0.800000 \\quad 4.375000 \\Big]^T$$"
       ],
       "metadata": {},
       "output_type": "display_data",
       "text": [
        "<IPython.core.display.Math at 0x7fb2b5206190>"
       ]
      },
      {
       "latex": [
        "$$\\mathbf{e_{1}} = \\Big[ 1.200000 \\quad 1.800000 \\quad 0.375000 \\Big]^T$$"
       ],
       "metadata": {},
       "output_type": "display_data",
       "text": [
        "<IPython.core.display.Math at 0x7fb2b51b1cd0>"
       ]
      },
      {
       "latex": [
        "$$\\mathbf{x_{2}} = \\Big[ 2.210000 \\quad 1.135000 \\quad 3.896875 \\Big]^T$$"
       ],
       "metadata": {},
       "output_type": "display_data",
       "text": [
        "<IPython.core.display.Math at 0x7fb2b51b1cd0>"
       ]
      },
      {
       "latex": [
        "$$\\mathbf{e_{2}} = \\Big[ 0.210000 \\quad 0.135000 \\quad 0.103125 \\Big]^T$$"
       ],
       "metadata": {},
       "output_type": "display_data",
       "text": [
        "<IPython.core.display.Math at 0x7fb2b51b1cd0>"
       ]
      },
      {
       "latex": [
        "$$\\mathbf{x_{3}} = \\Big[ 2.014250 \\quad 0.944875 \\quad 4.017109 \\Big]^T$$"
       ],
       "metadata": {},
       "output_type": "display_data",
       "text": [
        "<IPython.core.display.Math at 0x7fb2b51b1cd0>"
       ]
      },
      {
       "latex": [
        "$$\\mathbf{e_{3}} = \\Big[ 0.014250 \\quad 0.055125 \\quad 0.017109 \\Big]^T$$"
       ],
       "metadata": {},
       "output_type": "display_data",
       "text": [
        "<IPython.core.display.Math at 0x7fb2b51b1cd0>"
       ]
      },
      {
       "latex": [
        "$$\\mathbf{x_{4}} = \\Big[ 2.004181 \\quad 1.007509 \\quad 3.996139 \\Big]^T$$"
       ],
       "metadata": {},
       "output_type": "display_data",
       "text": [
        "<IPython.core.display.Math at 0x7fb2b51b1cd0>"
       ]
      },
      {
       "latex": [
        "$$\\mathbf{e_{4}} = \\Big[ 0.004181 \\quad 0.007509 \\quad 0.003861 \\Big]^T$$"
       ],
       "metadata": {},
       "output_type": "display_data",
       "text": [
        "<IPython.core.display.Math at 0x7fb2b51b1cd0>"
       ]
      },
      {
       "latex": [
        "$$\\mathbf{x_{5}} = \\Big[ 2.000043 \\quad 0.998059 \\quad 4.000717 \\Big]^T$$"
       ],
       "metadata": {},
       "output_type": "display_data",
       "text": [
        "<IPython.core.display.Math at 0x7fb2b51b1cd0>"
       ]
      },
      {
       "latex": [
        "$$\\mathbf{e_{5}} = \\Big[ 0.000043 \\quad 0.001941 \\quad 0.000717 \\Big]^T$$"
       ],
       "metadata": {},
       "output_type": "display_data",
       "text": [
        "<IPython.core.display.Math at 0x7fb2b51b1cd0>"
       ]
      }
     ],
     "prompt_number": 10
    },
    {
     "cell_type": "code",
     "collapsed": false,
     "input": [
      "xn = yn = zn = xnn = ynn = znn = 1.0\n",
      "\n",
      "N = 5\n",
      "\n",
      "# Jacobi\n",
      "for n in range(1, N+1):\n",
      "    xnn = x(yn, zn)\n",
      "    ynn = y(xn, zn)\n",
      "    znn = z(xn, yn)\n",
      "    xn = xnn; yn = ynn; zn = znn\n",
      "    \n",
      "    print_vector('x_{%s}' % n, xn, yn, zn)\n",
      "    print_vector('e_{%s}' % n, abs(xn-2), abs(yn-1), abs(zn-4))"
     ],
     "language": "python",
     "metadata": {},
     "outputs": [
      {
       "latex": [
        "$$\\mathbf{x_{1}} = \\Big[ 3.200000 \\quad -0.250000 \\quad 4.250000 \\Big]^T$$"
       ],
       "metadata": {},
       "output_type": "display_data",
       "text": [
        "<IPython.core.display.Math at 0x7fb2b518b450>"
       ]
      },
      {
       "latex": [
        "$$\\mathbf{e_{1}} = \\Big[ 1.200000 \\quad 1.250000 \\quad 0.250000 \\Big]^T$$"
       ],
       "metadata": {},
       "output_type": "display_data",
       "text": [
        "<IPython.core.display.Math at 0x7fb2d5f20ed0>"
       ]
      },
      {
       "latex": [
        "$$\\mathbf{x_{2}} = \\Big[ 2.150000 \\quad 0.825000 \\quad 4.168750 \\Big]^T$$"
       ],
       "metadata": {},
       "output_type": "display_data",
       "text": [
        "<IPython.core.display.Math at 0x7fb2d5f20ed0>"
       ]
      },
      {
       "latex": [
        "$$\\mathbf{e_{2}} = \\Big[ 0.150000 \\quad 0.175000 \\quad 0.168750 \\Big]^T$$"
       ],
       "metadata": {},
       "output_type": "display_data",
       "text": [
        "<IPython.core.display.Math at 0x7fb2d5f20ed0>"
       ]
      },
      {
       "latex": [
        "$$\\mathbf{x_{3}} = \\Big[ 1.967500 \\quad 1.046875 \\quad 4.028125 \\Big]^T$$"
       ],
       "metadata": {},
       "output_type": "display_data",
       "text": [
        "<IPython.core.display.Math at 0x7fb2d5f20ed0>"
       ]
      },
      {
       "latex": [
        "$$\\mathbf{e_{3}} = \\Big[ 0.032500 \\quad 0.046875 \\quad 0.028125 \\Big]^T$$"
       ],
       "metadata": {},
       "output_type": "display_data",
       "text": [
        "<IPython.core.display.Math at 0x7fb2d5f20ed0>"
       ]
      },
      {
       "latex": [
        "$$\\mathbf{x_{4}} = \\Big[ 1.979375 \\quad 1.022188 \\quad 3.990547 \\Big]^T$$"
       ],
       "metadata": {},
       "output_type": "display_data",
       "text": [
        "<IPython.core.display.Math at 0x7fb2d5f20ed0>"
       ]
      },
      {
       "latex": [
        "$$\\mathbf{e_{4}} = \\Big[ 0.020625 \\quad 0.022188 \\quad 0.009453 \\Big]^T$$"
       ],
       "metadata": {},
       "output_type": "display_data",
       "text": [
        "<IPython.core.display.Math at 0x7fb2d5f20ed0>"
       ]
      },
      {
       "latex": [
        "$$\\mathbf{x_{5}} = \\Big[ 1.999344 \\quad 1.000430 \\quad 3.996836 \\Big]^T$$"
       ],
       "metadata": {},
       "output_type": "display_data",
       "text": [
        "<IPython.core.display.Math at 0x7fb2d5f20ed0>"
       ]
      },
      {
       "latex": [
        "$$\\mathbf{e_{5}} = \\Big[ 0.000656 \\quad 0.000430 \\quad 0.003164 \\Big]^T$$"
       ],
       "metadata": {},
       "output_type": "display_data",
       "text": [
        "<IPython.core.display.Math at 0x7fb2d5f20ed0>"
       ]
      }
     ],
     "prompt_number": 11
    },
    {
     "cell_type": "markdown",
     "metadata": {},
     "source": [
      "# Oppgave 4"
     ]
    },
    {
     "cell_type": "code",
     "collapsed": false,
     "input": [
      "x = lambda y: 3-2*y\n",
      "y = lambda x: 4-3*x\n",
      "\n",
      "xn = yn = xnn = ynn = 0.0\n",
      "\n",
      "N = 10\n",
      "\n",
      "# Jacobi\n",
      "for n in range(1, N+1):\n",
      "    xnn = x(yn)\n",
      "    ynn = y(xn)\n",
      "    xn = xnn; yn = ynn\n",
      "    \n",
      "    display(Math(r'$\\mathbf{%s} = \\Big[ %f \\quad %f \\Big]^T$' % (n, xn, yn)))"
     ],
     "language": "python",
     "metadata": {},
     "outputs": [
      {
       "latex": [
        "$$\\mathbf{1} = \\Big[ 3.000000 \\quad 4.000000 \\Big]^T$$"
       ],
       "metadata": {},
       "output_type": "display_data",
       "text": [
        "<IPython.core.display.Math at 0x7fb2b5206ed0>"
       ]
      },
      {
       "latex": [
        "$$\\mathbf{2} = \\Big[ -5.000000 \\quad -5.000000 \\Big]^T$$"
       ],
       "metadata": {},
       "output_type": "display_data",
       "text": [
        "<IPython.core.display.Math at 0x7fb2b522dbd0>"
       ]
      },
      {
       "latex": [
        "$$\\mathbf{3} = \\Big[ 13.000000 \\quad 19.000000 \\Big]^T$$"
       ],
       "metadata": {},
       "output_type": "display_data",
       "text": [
        "<IPython.core.display.Math at 0x7fb2b522dbd0>"
       ]
      },
      {
       "latex": [
        "$$\\mathbf{4} = \\Big[ -35.000000 \\quad -35.000000 \\Big]^T$$"
       ],
       "metadata": {},
       "output_type": "display_data",
       "text": [
        "<IPython.core.display.Math at 0x7fb2b522dbd0>"
       ]
      },
      {
       "latex": [
        "$$\\mathbf{5} = \\Big[ 73.000000 \\quad 109.000000 \\Big]^T$$"
       ],
       "metadata": {},
       "output_type": "display_data",
       "text": [
        "<IPython.core.display.Math at 0x7fb2b522dbd0>"
       ]
      },
      {
       "latex": [
        "$$\\mathbf{6} = \\Big[ -215.000000 \\quad -215.000000 \\Big]^T$$"
       ],
       "metadata": {},
       "output_type": "display_data",
       "text": [
        "<IPython.core.display.Math at 0x7fb2b522dbd0>"
       ]
      },
      {
       "latex": [
        "$$\\mathbf{7} = \\Big[ 433.000000 \\quad 649.000000 \\Big]^T$$"
       ],
       "metadata": {},
       "output_type": "display_data",
       "text": [
        "<IPython.core.display.Math at 0x7fb2b522dbd0>"
       ]
      },
      {
       "latex": [
        "$$\\mathbf{8} = \\Big[ -1295.000000 \\quad -1295.000000 \\Big]^T$$"
       ],
       "metadata": {},
       "output_type": "display_data",
       "text": [
        "<IPython.core.display.Math at 0x7fb2b522dbd0>"
       ]
      },
      {
       "latex": [
        "$$\\mathbf{9} = \\Big[ 2593.000000 \\quad 3889.000000 \\Big]^T$$"
       ],
       "metadata": {},
       "output_type": "display_data",
       "text": [
        "<IPython.core.display.Math at 0x7fb2b522dbd0>"
       ]
      },
      {
       "latex": [
        "$$\\mathbf{10} = \\Big[ -7775.000000 \\quad -7775.000000 \\Big]^T$$"
       ],
       "metadata": {},
       "output_type": "display_data",
       "text": [
        "<IPython.core.display.Math at 0x7fb2b522dbd0>"
       ]
      }
     ],
     "prompt_number": 21
    },
    {
     "cell_type": "code",
     "collapsed": false,
     "input": [
      "x = lambda y: (4/3)-(3/2)*y\n",
      "y = lambda x: (3/2)-(4/3)*x\n",
      "\n",
      "xn = yn = xnn = ynn = 0.0\n",
      "\n",
      "N = 10\n",
      "\n",
      "# Jacobi\n",
      "for n in range(1, N+1):\n",
      "    xnn = x(yn)\n",
      "    ynn = y(xn)\n",
      "    xn = xnn; yn = ynn\n",
      "    \n",
      "    display(Math(r'$\\mathbf{%s} = \\Big[ %f \\quad %f \\Big]^T$' % (n, xn, yn)))"
     ],
     "language": "python",
     "metadata": {},
     "outputs": [
      {
       "latex": [
        "$$\\mathbf{1} = \\Big[ 1.333333 \\quad 1.500000 \\Big]^T$$"
       ],
       "metadata": {},
       "output_type": "display_data",
       "text": [
        "<IPython.core.display.Math at 0x7fb2b92d5190>"
       ]
      },
      {
       "latex": [
        "$$\\mathbf{2} = \\Big[ -0.916667 \\quad -0.277778 \\Big]^T$$"
       ],
       "metadata": {},
       "output_type": "display_data",
       "text": [
        "<IPython.core.display.Math at 0x7fb2b92d5190>"
       ]
      },
      {
       "latex": [
        "$$\\mathbf{3} = \\Big[ 1.750000 \\quad 2.722222 \\Big]^T$$"
       ],
       "metadata": {},
       "output_type": "display_data",
       "text": [
        "<IPython.core.display.Math at 0x7fb2b92d5190>"
       ]
      },
      {
       "latex": [
        "$$\\mathbf{4} = \\Big[ -2.750000 \\quad -0.833333 \\Big]^T$$"
       ],
       "metadata": {},
       "output_type": "display_data",
       "text": [
        "<IPython.core.display.Math at 0x7fb2b92d5190>"
       ]
      },
      {
       "latex": [
        "$$\\mathbf{5} = \\Big[ 2.583333 \\quad 5.166667 \\Big]^T$$"
       ],
       "metadata": {},
       "output_type": "display_data",
       "text": [
        "<IPython.core.display.Math at 0x7fb2b92d5190>"
       ]
      },
      {
       "latex": [
        "$$\\mathbf{6} = \\Big[ -6.416667 \\quad -1.944444 \\Big]^T$$"
       ],
       "metadata": {},
       "output_type": "display_data",
       "text": [
        "<IPython.core.display.Math at 0x7fb2b92d5190>"
       ]
      },
      {
       "latex": [
        "$$\\mathbf{7} = \\Big[ 4.250000 \\quad 10.055556 \\Big]^T$$"
       ],
       "metadata": {},
       "output_type": "display_data",
       "text": [
        "<IPython.core.display.Math at 0x7fb2b92d5190>"
       ]
      },
      {
       "latex": [
        "$$\\mathbf{8} = \\Big[ -13.750000 \\quad -4.166667 \\Big]^T$$"
       ],
       "metadata": {},
       "output_type": "display_data",
       "text": [
        "<IPython.core.display.Math at 0x7fb2b92d5190>"
       ]
      },
      {
       "latex": [
        "$$\\mathbf{9} = \\Big[ 7.583333 \\quad 19.833333 \\Big]^T$$"
       ],
       "metadata": {},
       "output_type": "display_data",
       "text": [
        "<IPython.core.display.Math at 0x7fb2b92d5190>"
       ]
      },
      {
       "latex": [
        "$$\\mathbf{10} = \\Big[ -28.416667 \\quad -8.611111 \\Big]^T$$"
       ],
       "metadata": {},
       "output_type": "display_data",
       "text": [
        "<IPython.core.display.Math at 0x7fb2b92d5190>"
       ]
      }
     ],
     "prompt_number": 24
    },
    {
     "cell_type": "code",
     "collapsed": false,
     "input": [],
     "language": "python",
     "metadata": {},
     "outputs": []
    }
   ],
   "metadata": {}
  }
 ]
}